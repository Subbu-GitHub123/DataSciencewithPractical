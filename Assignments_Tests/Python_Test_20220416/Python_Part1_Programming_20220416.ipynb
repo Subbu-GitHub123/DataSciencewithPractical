{
 "cells": [
  {
   "cell_type": "markdown",
   "id": "61edba7d",
   "metadata": {},
   "source": [
    "### 1. Write a program (with function) which takes a sequence of numbers and check if all numbers are unique."
   ]
  },
  {
   "cell_type": "code",
   "execution_count": 14,
   "id": "9bfb66f6",
   "metadata": {},
   "outputs": [
    {
     "name": "stdout",
     "output_type": "stream",
     "text": [
      "Enter some sequence of numbers: 1 2 -3 4 6 8 2\n"
     ]
    }
   ],
   "source": [
    "from collections import Counter\n",
    "c = Counter(input('Enter some sequence of numbers: ').split())"
   ]
  },
  {
   "cell_type": "code",
   "execution_count": 4,
   "id": "e23b1027",
   "metadata": {},
   "outputs": [
    {
     "name": "stdout",
     "output_type": "stream",
     "text": [
      "Numbers are not unique\n"
     ]
    }
   ],
   "source": [
    "if sum(c.values()) != len(c.values()):\n",
    "    print('Numbers are not unique')\n",
    "else:\n",
    "    print('Numbers are unique')"
   ]
  },
  {
   "cell_type": "code",
   "execution_count": 15,
   "id": "dd875200",
   "metadata": {},
   "outputs": [
    {
     "name": "stdout",
     "output_type": "stream",
     "text": [
      "Enter some numbers: 1 2 -3 4 6 8 9\n"
     ]
    }
   ],
   "source": [
    "from collections import Counter\n",
    "c = Counter(input('Enter some numbers: ').split())"
   ]
  },
  {
   "cell_type": "code",
   "execution_count": 6,
   "id": "cd2e1d00",
   "metadata": {},
   "outputs": [
    {
     "name": "stdout",
     "output_type": "stream",
     "text": [
      "Numbers are unique\n"
     ]
    }
   ],
   "source": [
    "if sum(c.values()) != len(c.values()):\n",
    "    print('Numbers are not unique')\n",
    "else:\n",
    "    print('Numbers are unique')"
   ]
  },
  {
   "cell_type": "markdown",
   "id": "1ebc4250",
   "metadata": {},
   "source": [
    "### 2. Python program to find out the average of a set of integers\n",
    "a. Note: Don’t use the pre-defined functions like np.mean\n",
    "b. For ex: If input is 5, the output should be average of 1+2+3+4+5"
   ]
  },
  {
   "cell_type": "code",
   "execution_count": 8,
   "id": "44653a8e",
   "metadata": {},
   "outputs": [
    {
     "name": "stdout",
     "output_type": "stream",
     "text": [
      "sum is:  156.0 Average is:  30.419999999999998\n"
     ]
    }
   ],
   "source": [
    "num_list = [15.6, 16.5, 21, 42, 57]\n",
    "tot = sum(num_list)\n",
    "avg = tot / len(num_list)\n",
    "print(\"sum is: \", res, \"Average is: \", avg)"
   ]
  },
  {
   "cell_type": "markdown",
   "id": "62cef9e3",
   "metadata": {},
   "source": [
    "### 3. Python program to check whether the given integer is a multiple of both 5 and 7"
   ]
  },
  {
   "cell_type": "code",
   "execution_count": 1,
   "id": "9577058a",
   "metadata": {},
   "outputs": [
    {
     "name": "stdout",
     "output_type": "stream",
     "text": [
      "Enter the lower range:30\n",
      "Enter the upper range:300\n",
      "35\n",
      "70\n",
      "105\n",
      "140\n",
      "175\n",
      "210\n",
      "245\n",
      "280\n"
     ]
    }
   ],
   "source": [
    "lower=int(input(\"Enter the lower range:\"))\n",
    "upper=int(input(\"Enter the upper range:\"))\n",
    "for i in range (lower,upper+1):\n",
    "    if(i%7==0 and i%5==0):\n",
    "        print(i)"
   ]
  },
  {
   "cell_type": "code",
   "execution_count": null,
   "id": "82ff1b2b",
   "metadata": {},
   "outputs": [],
   "source": [
    "if(input_value%7==0 and input_value%5==0):\n",
    "    print(\"Input value: \"+i+\" is divisible by both 5 & 7\")\n",
    "else:\n",
    "    print(\"Input value: \"+i+\" is not divisible by both 5 & 7\")"
   ]
  },
  {
   "cell_type": "markdown",
   "id": "37b1c7d6",
   "metadata": {},
   "source": [
    "### 4. Python program to display the given integer in reverse manner"
   ]
  },
  {
   "cell_type": "code",
   "execution_count": 3,
   "id": "3321bd8b",
   "metadata": {},
   "outputs": [
    {
     "name": "stdout",
     "output_type": "stream",
     "text": [
      "Reversed Number: 258\n"
     ]
    }
   ],
   "source": [
    "num = 852\n",
    "reversed_num = 0\n",
    "\n",
    "while num != 0:\n",
    "    digit = num % 10\n",
    "    reversed_num = reversed_num * 10 + digit\n",
    "    num //= 10\n",
    "\n",
    "print(\"Reversed Number: \" + str(reversed_num))"
   ]
  },
  {
   "cell_type": "markdown",
   "id": "3d18e7ee",
   "metadata": {},
   "source": [
    "### 5. Create an inner function to calculate the addition in the following way\n",
    "a. Create an outer function that will accept two parameters, a and b\n",
    "b. Create an inner function inside an outer function that will calculate the addition of a and b\n",
    "c. At last, an outer function will add 5 into addition and return it"
   ]
  },
  {
   "cell_type": "code",
   "execution_count": 7,
   "id": "df875267",
   "metadata": {},
   "outputs": [
    {
     "name": "stdout",
     "output_type": "stream",
     "text": [
      "20\n"
     ]
    }
   ],
   "source": [
    "def outer_fnc(inp1, inp2):\n",
    "    print(\"Inside outer function\")\n",
    "\n",
    "    def inner_fnc_add(inp1, inp2):\n",
    "        print(\"Inside inner function\")\n",
    "        return inp1 + inp2\n",
    "\n",
    "    print(\"calling inner function from outer function\")\n",
    "    add = inner_fnc_add(inp1, inp2)\n",
    "    return add + 5\n",
    "\n",
    "result = outer_fun(5, 10)\n",
    "print(result)"
   ]
  },
  {
   "cell_type": "markdown",
   "id": "6332430a",
   "metadata": {},
   "source": [
    "### 6. Python Program to Check Leap Year\n",
    "a. A leap year is exactly divisible by 4 except for century years (years ending with 00). The century year is a leap year only if it is perfectly divisible by 400\n",
    "b. For ex: 2017 is not a leap year, 1900 is a not leap year, 2012 is a leap year, 2000 is a leap year"
   ]
  },
  {
   "cell_type": "code",
   "execution_count": 10,
   "id": "4075d29e",
   "metadata": {},
   "outputs": [
    {
     "name": "stdout",
     "output_type": "stream",
     "text": [
      "Enter the number: 2017\n",
      "Given Year is not a leap Year\n"
     ]
    }
   ],
   "source": [
    "def checkLeapYear(Year): \n",
    "  if((Year % 400 == 0) or  \n",
    "     (Year % 100 != 0) and  \n",
    "     (Year % 4 == 0)):   \n",
    "    print(\"Given Year is a leap Year\")\n",
    "  else:  \n",
    "    print (\"Given Year is not a leap Year\")  \n",
    "Year = int(input(\"Enter the number: \"))   \n",
    "checkLeapYear(Year)  "
   ]
  },
  {
   "cell_type": "code",
   "execution_count": 11,
   "id": "80ee7156",
   "metadata": {},
   "outputs": [
    {
     "name": "stdout",
     "output_type": "stream",
     "text": [
      "Enter the number: 1900\n",
      "Given Year is not a leap Year\n"
     ]
    }
   ],
   "source": [
    "Year = int(input(\"Enter the number: \"))   \n",
    "checkLeapYear(Year)  "
   ]
  },
  {
   "cell_type": "code",
   "execution_count": 12,
   "id": "7851d913",
   "metadata": {},
   "outputs": [
    {
     "name": "stdout",
     "output_type": "stream",
     "text": [
      "Enter the number: 2012\n",
      "Given Year is a leap Year\n"
     ]
    }
   ],
   "source": [
    "Year = int(input(\"Enter the number: \"))   \n",
    "checkLeapYear(Year)  "
   ]
  },
  {
   "cell_type": "code",
   "execution_count": 13,
   "id": "dbd64e98",
   "metadata": {},
   "outputs": [
    {
     "name": "stdout",
     "output_type": "stream",
     "text": [
      "Enter the number: 2000\n",
      "Given Year is a leap Year\n"
     ]
    }
   ],
   "source": [
    "Year = int(input(\"Enter the number: \"))   \n",
    "checkLeapYear(Year)  "
   ]
  },
  {
   "cell_type": "code",
   "execution_count": null,
   "id": "ace8a00b",
   "metadata": {},
   "outputs": [],
   "source": []
  }
 ],
 "metadata": {
  "kernelspec": {
   "display_name": "Python 3 (ipykernel)",
   "language": "python",
   "name": "python3"
  },
  "language_info": {
   "codemirror_mode": {
    "name": "ipython",
    "version": 3
   },
   "file_extension": ".py",
   "mimetype": "text/x-python",
   "name": "python",
   "nbconvert_exporter": "python",
   "pygments_lexer": "ipython3",
   "version": "3.9.7"
  }
 },
 "nbformat": 4,
 "nbformat_minor": 5
}
