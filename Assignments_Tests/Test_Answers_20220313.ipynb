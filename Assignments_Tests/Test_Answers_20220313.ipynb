{
 "cells": [
  {
   "cell_type": "markdown",
   "id": "6cafa8a6",
   "metadata": {},
   "source": [
    "## 1 Create a program that asks the user to enter their name and their age. Print out a message that tells them the year that they will turn 100 years old"
   ]
  },
  {
   "cell_type": "code",
   "execution_count": 67,
   "id": "189872e4",
   "metadata": {},
   "outputs": [
    {
     "name": "stdout",
     "output_type": "stream",
     "text": [
      "Enter age: 38\n",
      "Enter name: Subrahmanyam T\n",
      "The user will in year  2084 he/she will turn 100 years old.\n"
     ]
    }
   ],
   "source": [
    "age = int(input(\"Enter age: \"))\n",
    "name = input(\"Enter name: \")\n",
    "\n",
    "user_age = (100-age) + 2022\n",
    "print (\"The user will in year \", user_age ,\"he/she will turn 100 years old.\")"
   ]
  },
  {
   "cell_type": "markdown",
   "id": "a8131fe2",
   "metadata": {},
   "source": [
    "## 2 What is pandas groupby? Demonstrate with your own example"
   ]
  },
  {
   "cell_type": "markdown",
   "id": "dec2bc11",
   "metadata": {},
   "source": [
    "By “group by” we are referring to a process involving one or more of the following steps:\n",
    "\n",
    "Splitting the data into groups based on some criteria.\n",
    "\n",
    "Applying a function to each group independently.\n",
    "\n",
    "Combining the results into a data structure."
   ]
  },
  {
   "cell_type": "code",
   "execution_count": 15,
   "id": "07ac4ad8",
   "metadata": {},
   "outputs": [
    {
     "data": {
      "text/html": [
       "<div>\n",
       "<style scoped>\n",
       "    .dataframe tbody tr th:only-of-type {\n",
       "        vertical-align: middle;\n",
       "    }\n",
       "\n",
       "    .dataframe tbody tr th {\n",
       "        vertical-align: top;\n",
       "    }\n",
       "\n",
       "    .dataframe thead th {\n",
       "        text-align: right;\n",
       "    }\n",
       "</style>\n",
       "<table border=\"1\" class=\"dataframe\">\n",
       "  <thead>\n",
       "    <tr style=\"text-align: right;\">\n",
       "      <th></th>\n",
       "      <th>class</th>\n",
       "      <th>order</th>\n",
       "      <th>max_speed</th>\n",
       "    </tr>\n",
       "  </thead>\n",
       "  <tbody>\n",
       "    <tr>\n",
       "      <th>falcon</th>\n",
       "      <td>bird</td>\n",
       "      <td>Falconiformes</td>\n",
       "      <td>389.0</td>\n",
       "    </tr>\n",
       "    <tr>\n",
       "      <th>parrot</th>\n",
       "      <td>bird</td>\n",
       "      <td>Psittaciformes</td>\n",
       "      <td>24.0</td>\n",
       "    </tr>\n",
       "    <tr>\n",
       "      <th>lion</th>\n",
       "      <td>mammal</td>\n",
       "      <td>Carnivora</td>\n",
       "      <td>80.2</td>\n",
       "    </tr>\n",
       "    <tr>\n",
       "      <th>monkey</th>\n",
       "      <td>mammal</td>\n",
       "      <td>Primates</td>\n",
       "      <td>NaN</td>\n",
       "    </tr>\n",
       "    <tr>\n",
       "      <th>leopard</th>\n",
       "      <td>mammal</td>\n",
       "      <td>Carnivora</td>\n",
       "      <td>58.0</td>\n",
       "    </tr>\n",
       "  </tbody>\n",
       "</table>\n",
       "</div>"
      ],
      "text/plain": [
       "          class           order  max_speed\n",
       "falcon     bird   Falconiformes      389.0\n",
       "parrot     bird  Psittaciformes       24.0\n",
       "lion     mammal       Carnivora       80.2\n",
       "monkey   mammal        Primates        NaN\n",
       "leopard  mammal       Carnivora       58.0"
      ]
     },
     "execution_count": 15,
     "metadata": {},
     "output_type": "execute_result"
    }
   ],
   "source": [
    "import pandas as pd\n",
    "import numpy as np\n",
    "df = pd.DataFrame(\n",
    "    [\n",
    "        (\"bird\", \"Falconiformes\", 389.0),\n",
    "        (\"bird\", \"Psittaciformes\", 24.0),\n",
    "        (\"mammal\", \"Carnivora\", 80.2),\n",
    "        (\"mammal\", \"Primates\", np.nan),\n",
    "        (\"mammal\", \"Carnivora\", 58),\n",
    "    ],\n",
    "    index=[\"falcon\", \"parrot\", \"lion\", \"monkey\", \"leopard\"],\n",
    "    columns=(\"class\", \"order\", \"max_speed\"),\n",
    ")\n",
    "\n",
    "df"
   ]
  },
  {
   "cell_type": "code",
   "execution_count": 17,
   "id": "4a041f38",
   "metadata": {},
   "outputs": [
    {
     "data": {
      "text/plain": [
       "<pandas.core.groupby.generic.DataFrameGroupBy object at 0x000001C342A630A0>"
      ]
     },
     "execution_count": 17,
     "metadata": {},
     "output_type": "execute_result"
    }
   ],
   "source": [
    "grouped = df.groupby(\"class\")\n",
    "grouped = df.groupby(\"order\", axis=\"columns\")\n",
    "grouped = df.groupby([\"class\", \"order\"])\n",
    "grouped"
   ]
  },
  {
   "cell_type": "code",
   "execution_count": 18,
   "id": "a5067a0b",
   "metadata": {},
   "outputs": [
    {
     "data": {
      "text/html": [
       "<div>\n",
       "<style scoped>\n",
       "    .dataframe tbody tr th:only-of-type {\n",
       "        vertical-align: middle;\n",
       "    }\n",
       "\n",
       "    .dataframe tbody tr th {\n",
       "        vertical-align: top;\n",
       "    }\n",
       "\n",
       "    .dataframe thead th {\n",
       "        text-align: right;\n",
       "    }\n",
       "</style>\n",
       "<table border=\"1\" class=\"dataframe\">\n",
       "  <thead>\n",
       "    <tr style=\"text-align: right;\">\n",
       "      <th></th>\n",
       "      <th></th>\n",
       "      <th>max_speed</th>\n",
       "    </tr>\n",
       "    <tr>\n",
       "      <th>class</th>\n",
       "      <th>order</th>\n",
       "      <th></th>\n",
       "    </tr>\n",
       "  </thead>\n",
       "  <tbody>\n",
       "    <tr>\n",
       "      <th rowspan=\"2\" valign=\"top\">bird</th>\n",
       "      <th>Falconiformes</th>\n",
       "      <td>389.0</td>\n",
       "    </tr>\n",
       "    <tr>\n",
       "      <th>Psittaciformes</th>\n",
       "      <td>24.0</td>\n",
       "    </tr>\n",
       "    <tr>\n",
       "      <th rowspan=\"2\" valign=\"top\">mammal</th>\n",
       "      <th>Carnivora</th>\n",
       "      <td>138.2</td>\n",
       "    </tr>\n",
       "    <tr>\n",
       "      <th>Primates</th>\n",
       "      <td>0.0</td>\n",
       "    </tr>\n",
       "  </tbody>\n",
       "</table>\n",
       "</div>"
      ],
      "text/plain": [
       "                       max_speed\n",
       "class  order                    \n",
       "bird   Falconiformes       389.0\n",
       "       Psittaciformes       24.0\n",
       "mammal Carnivora           138.2\n",
       "       Primates              0.0"
      ]
     },
     "execution_count": 18,
     "metadata": {},
     "output_type": "execute_result"
    }
   ],
   "source": [
    "grouped.sum()"
   ]
  },
  {
   "cell_type": "markdown",
   "id": "957da654",
   "metadata": {},
   "source": [
    "## 3 How to create a dataframe from list?"
   ]
  },
  {
   "cell_type": "code",
   "execution_count": 19,
   "id": "c2ac60c7",
   "metadata": {},
   "outputs": [
    {
     "name": "stdout",
     "output_type": "stream",
     "text": [
      "        0\n",
      "0     fav\n",
      "1   tutor\n",
      "2  coding\n",
      "3  skills\n"
     ]
    }
   ],
   "source": [
    "lst = ['fav', 'tutor', 'coding', 'skills']\n",
    "df = pd.DataFrame(lst)\n",
    "print(df)"
   ]
  },
  {
   "cell_type": "markdown",
   "id": "eb895ed9",
   "metadata": {},
   "source": [
    "## 4 What are the ways to combine the dataframe in pandas. Give an example for each"
   ]
  },
  {
   "cell_type": "code",
   "execution_count": 35,
   "id": "0d98640b",
   "metadata": {},
   "outputs": [],
   "source": [
    "df1 = pd.DataFrame.from_dict({'Name': 'Subbu', 'Profession': 'Software', 'Experience': '5'}, orient='index')\n",
    "df2 = pd.DataFrame.from_dict({'Name': 'Ramesh', 'Profession': 'Hardware', 'Experience': '6'}, orient='index')"
   ]
  },
  {
   "cell_type": "code",
   "execution_count": 32,
   "id": "93efa54a",
   "metadata": {},
   "outputs": [
    {
     "data": {
      "text/html": [
       "<div>\n",
       "<style scoped>\n",
       "    .dataframe tbody tr th:only-of-type {\n",
       "        vertical-align: middle;\n",
       "    }\n",
       "\n",
       "    .dataframe tbody tr th {\n",
       "        vertical-align: top;\n",
       "    }\n",
       "\n",
       "    .dataframe thead th {\n",
       "        text-align: right;\n",
       "    }\n",
       "</style>\n",
       "<table border=\"1\" class=\"dataframe\">\n",
       "  <thead>\n",
       "    <tr style=\"text-align: right;\">\n",
       "      <th></th>\n",
       "      <th>0</th>\n",
       "    </tr>\n",
       "  </thead>\n",
       "  <tbody>\n",
       "    <tr>\n",
       "      <th>Name</th>\n",
       "      <td>Subbu</td>\n",
       "    </tr>\n",
       "    <tr>\n",
       "      <th>Profession</th>\n",
       "      <td>Software</td>\n",
       "    </tr>\n",
       "    <tr>\n",
       "      <th>Experience</th>\n",
       "      <td>5</td>\n",
       "    </tr>\n",
       "    <tr>\n",
       "      <th>Name</th>\n",
       "      <td>Ramesh</td>\n",
       "    </tr>\n",
       "    <tr>\n",
       "      <th>Profession</th>\n",
       "      <td>Hardware</td>\n",
       "    </tr>\n",
       "    <tr>\n",
       "      <th>Experience</th>\n",
       "      <td>6</td>\n",
       "    </tr>\n",
       "  </tbody>\n",
       "</table>\n",
       "</div>"
      ],
      "text/plain": [
       "                   0\n",
       "Name           Subbu\n",
       "Profession  Software\n",
       "Experience         5\n",
       "Name          Ramesh\n",
       "Profession  Hardware\n",
       "Experience         6"
      ]
     },
     "execution_count": 32,
     "metadata": {},
     "output_type": "execute_result"
    }
   ],
   "source": [
    "# Stack the DataFrames on top of each other\n",
    "df_concat1 = pd.concat([df1, df2], axis=0)\n",
    "df_concat1"
   ]
  },
  {
   "cell_type": "code",
   "execution_count": 33,
   "id": "d2580a89",
   "metadata": {},
   "outputs": [
    {
     "data": {
      "text/html": [
       "<div>\n",
       "<style scoped>\n",
       "    .dataframe tbody tr th:only-of-type {\n",
       "        vertical-align: middle;\n",
       "    }\n",
       "\n",
       "    .dataframe tbody tr th {\n",
       "        vertical-align: top;\n",
       "    }\n",
       "\n",
       "    .dataframe thead th {\n",
       "        text-align: right;\n",
       "    }\n",
       "</style>\n",
       "<table border=\"1\" class=\"dataframe\">\n",
       "  <thead>\n",
       "    <tr style=\"text-align: right;\">\n",
       "      <th></th>\n",
       "      <th>0</th>\n",
       "      <th>0</th>\n",
       "    </tr>\n",
       "  </thead>\n",
       "  <tbody>\n",
       "    <tr>\n",
       "      <th>Name</th>\n",
       "      <td>Subbu</td>\n",
       "      <td>Ramesh</td>\n",
       "    </tr>\n",
       "    <tr>\n",
       "      <th>Profession</th>\n",
       "      <td>Software</td>\n",
       "      <td>Hardware</td>\n",
       "    </tr>\n",
       "    <tr>\n",
       "      <th>Experience</th>\n",
       "      <td>5</td>\n",
       "      <td>6</td>\n",
       "    </tr>\n",
       "  </tbody>\n",
       "</table>\n",
       "</div>"
      ],
      "text/plain": [
       "                   0         0\n",
       "Name           Subbu    Ramesh\n",
       "Profession  Software  Hardware\n",
       "Experience         5         6"
      ]
     },
     "execution_count": 33,
     "metadata": {},
     "output_type": "execute_result"
    }
   ],
   "source": [
    "# Place the DataFrames side by side\n",
    "df_concat2 = pd.concat([df1, df2], axis=1)\n",
    "df_concat2"
   ]
  },
  {
   "cell_type": "code",
   "execution_count": 39,
   "id": "fc8cd389",
   "metadata": {},
   "outputs": [
    {
     "data": {
      "text/html": [
       "<div>\n",
       "<style scoped>\n",
       "    .dataframe tbody tr th:only-of-type {\n",
       "        vertical-align: middle;\n",
       "    }\n",
       "\n",
       "    .dataframe tbody tr th {\n",
       "        vertical-align: top;\n",
       "    }\n",
       "\n",
       "    .dataframe thead th {\n",
       "        text-align: right;\n",
       "    }\n",
       "</style>\n",
       "<table border=\"1\" class=\"dataframe\">\n",
       "  <thead>\n",
       "    <tr style=\"text-align: right;\">\n",
       "      <th></th>\n",
       "      <th>0</th>\n",
       "    </tr>\n",
       "  </thead>\n",
       "  <tbody>\n",
       "    <tr>\n",
       "      <th>0</th>\n",
       "      <td>Subbu</td>\n",
       "    </tr>\n",
       "  </tbody>\n",
       "</table>\n",
       "</div>"
      ],
      "text/plain": [
       "       0\n",
       "0  Subbu"
      ]
     },
     "execution_count": 39,
     "metadata": {},
     "output_type": "execute_result"
    }
   ],
   "source": [
    "df3 = pd.DataFrame.from_dict({'Name': 'Subbu', 'Profession': 'Software', 'Experience': '5'}, orient='index')\n",
    "df4 = pd.DataFrame.from_dict({'Name': 'Subbu', 'Door No': '3-2-64----'}, orient='index')\n",
    "merged_inner = pd.merge(left=df3, right=df4)\n",
    "\n",
    "# What's the size of the output data?\n",
    "merged_inner.shape\n",
    "merged_inner"
   ]
  },
  {
   "cell_type": "code",
   "execution_count": 41,
   "id": "885332ba",
   "metadata": {},
   "outputs": [
    {
     "data": {
      "text/html": [
       "<div>\n",
       "<style scoped>\n",
       "    .dataframe tbody tr th:only-of-type {\n",
       "        vertical-align: middle;\n",
       "    }\n",
       "\n",
       "    .dataframe tbody tr th {\n",
       "        vertical-align: top;\n",
       "    }\n",
       "\n",
       "    .dataframe thead th {\n",
       "        text-align: right;\n",
       "    }\n",
       "</style>\n",
       "<table border=\"1\" class=\"dataframe\">\n",
       "  <thead>\n",
       "    <tr style=\"text-align: right;\">\n",
       "      <th></th>\n",
       "      <th>0</th>\n",
       "    </tr>\n",
       "  </thead>\n",
       "  <tbody>\n",
       "    <tr>\n",
       "      <th>0</th>\n",
       "      <td>Subbu</td>\n",
       "    </tr>\n",
       "    <tr>\n",
       "      <th>1</th>\n",
       "      <td>Software</td>\n",
       "    </tr>\n",
       "    <tr>\n",
       "      <th>2</th>\n",
       "      <td>5</td>\n",
       "    </tr>\n",
       "  </tbody>\n",
       "</table>\n",
       "</div>"
      ],
      "text/plain": [
       "          0\n",
       "0     Subbu\n",
       "1  Software\n",
       "2         5"
      ]
     },
     "execution_count": 41,
     "metadata": {},
     "output_type": "execute_result"
    }
   ],
   "source": [
    "merged_inner = pd.merge(left=df3, right=df4, how='left')\n",
    "\n",
    "# What's the size of the output data?\n",
    "merged_inner.shape\n",
    "merged_inner"
   ]
  },
  {
   "cell_type": "markdown",
   "id": "75bd52f6",
   "metadata": {},
   "source": [
    "## 5 What is the difference between list and tuples in Python?\n",
    "\n",
    "The key difference between the tuples and lists is that while the tuples are immutable objects the lists are mutable. This means that tuples cannot be changed while the lists can be modified."
   ]
  },
  {
   "cell_type": "code",
   "execution_count": 42,
   "id": "68def8d6",
   "metadata": {},
   "outputs": [
    {
     "name": "stdout",
     "output_type": "stream",
     "text": [
      "120\n",
      "80\n"
     ]
    }
   ],
   "source": [
    "import sys\n",
    "a_list = list()\n",
    "a_tuple = tuple()\n",
    "a_list = [1,2,3,4,5]\n",
    "a_tuple = (1,2,3,4,5)\n",
    "print(sys.getsizeof(a_list))\n",
    "print(sys.getsizeof(a_tuple))"
   ]
  },
  {
   "cell_type": "code",
   "execution_count": 43,
   "id": "6833ad8f",
   "metadata": {},
   "outputs": [
    {
     "data": {
      "text/plain": [
       "[9, 2, 3, 4, 5]"
      ]
     },
     "execution_count": 43,
     "metadata": {},
     "output_type": "execute_result"
    }
   ],
   "source": [
    "a_list[0] = 9\n",
    "a_list"
   ]
  },
  {
   "cell_type": "code",
   "execution_count": 44,
   "id": "42cb89de",
   "metadata": {},
   "outputs": [
    {
     "ename": "TypeError",
     "evalue": "'tuple' object does not support item assignment",
     "output_type": "error",
     "traceback": [
      "\u001b[1;31m---------------------------------------------------------------------------\u001b[0m",
      "\u001b[1;31mTypeError\u001b[0m                                 Traceback (most recent call last)",
      "\u001b[1;32mC:\\Users\\SCEC8~1.TAM\\AppData\\Local\\Temp/ipykernel_7276/1351597934.py\u001b[0m in \u001b[0;36m<module>\u001b[1;34m\u001b[0m\n\u001b[1;32m----> 1\u001b[1;33m \u001b[0ma_tuple\u001b[0m\u001b[1;33m[\u001b[0m\u001b[1;36m0\u001b[0m\u001b[1;33m]\u001b[0m \u001b[1;33m=\u001b[0m \u001b[1;36m9\u001b[0m\u001b[1;33m\u001b[0m\u001b[1;33m\u001b[0m\u001b[0m\n\u001b[0m\u001b[0;32m      2\u001b[0m \u001b[0ma_tuple\u001b[0m\u001b[1;33m\u001b[0m\u001b[1;33m\u001b[0m\u001b[0m\n",
      "\u001b[1;31mTypeError\u001b[0m: 'tuple' object does not support item assignment"
     ]
    }
   ],
   "source": [
    "a_tuple[0] = 9\n",
    "a_tuple"
   ]
  },
  {
   "cell_type": "markdown",
   "id": "284f42a5",
   "metadata": {},
   "source": [
    "## 6 Find out the mean, median and standard deviation of this numpy array -> np.array([1,5,3,100,4,48])"
   ]
  },
  {
   "cell_type": "code",
   "execution_count": 52,
   "id": "7f3600f1",
   "metadata": {},
   "outputs": [
    {
     "name": "stdout",
     "output_type": "stream",
     "text": [
      "mean/avarage is: 26.833333333333332\n",
      "median is:4.5\n",
      "Mean of input array is 26.833333333333332 \n",
      "Median of input array is 4.5 \n",
      "Standard Deviation of sample is 36.59424666377065 \n"
     ]
    }
   ],
   "source": [
    "from collections import Counter\n",
    "\n",
    "n_num = np.array([1,5,3,100,4,48])\n",
    "n=len(n_num)\n",
    "get_sum =sum(n_num)\n",
    "mean = get_sum/n\n",
    "print(\"mean/avarage is: \"+str(mean))\n",
    "\n",
    "n=len(n_num)\n",
    "n_num.sort()\n",
    "if n% 2 ==0:\n",
    "    median1 = n_num[n//2]\n",
    "    median2 = n_num[n//2-1]\n",
    "    median =(median1+median2)/2\n",
    "else:\n",
    "    median = n_num[n//2]\n",
    "print(\"median is:\" +str(median))\n",
    "\n",
    "print(\"Mean of input array is % s \"% (np.mean(n_num)))\n",
    "print(\"Median of input array is % s \"% (np.median(n_num)))\n",
    "print(\"Standard Deviation of sample is % s \"% (np.std(n_num)))"
   ]
  },
  {
   "cell_type": "markdown",
   "id": "798a3e3b",
   "metadata": {},
   "source": [
    "## 7 How will you remove duplicate elements from a list?"
   ]
  },
  {
   "cell_type": "code",
   "execution_count": 57,
   "id": "1419823e",
   "metadata": {},
   "outputs": [
    {
     "name": "stdout",
     "output_type": "stream",
     "text": [
      "The list is: [11, 13, 15, 16, 13, 15, 16, 11]\n",
      "The list after removing duplicates: [11, 13, 15, 16]\n",
      "[11, 13, 15, 16]\n",
      "[11, 13, 15, 16]\n"
     ]
    }
   ],
   "source": [
    "# initializing list \n",
    "sam_list = [11, 13, 15, 16, 13, 15, 16, 11] \n",
    "print (\"The list is: \" + str(sam_list)) \n",
    "\n",
    "# to remove duplicated from list \n",
    "result = [] \n",
    "[result.append(x) for x in sam_list if x not in result] \n",
    "\n",
    "# printing list after removal \n",
    "print (\"The list after removing duplicates: \" + str(result)) \n",
    "\n",
    "#Another ways\n",
    "print(list(dict.fromkeys(sam_list)))\n",
    "print(sorted(set(sam_list)))"
   ]
  },
  {
   "cell_type": "markdown",
   "id": "50f83977",
   "metadata": {},
   "source": [
    "## 8 What is a map() function in Python? Give an example"
   ]
  },
  {
   "cell_type": "markdown",
   "id": "a0ed54bf",
   "metadata": {},
   "source": [
    "The map() function applies a given function to each item of an iterable (list, tuple etc.) and returns an iterator."
   ]
  },
  {
   "cell_type": "code",
   "execution_count": 58,
   "id": "1ec3b385",
   "metadata": {},
   "outputs": [
    {
     "name": "stdout",
     "output_type": "stream",
     "text": [
      "[4, 16, 36, 64, 100]\n"
     ]
    }
   ],
   "source": [
    "numbers = [2, 4, 6, 8, 10]\n",
    "\n",
    "# returns square of a number\n",
    "def square(number):\n",
    "  return number * number\n",
    "\n",
    "# apply square() function to each item of the numbers list\n",
    "squared_numbers_iterator = map(square, numbers)\n",
    "\n",
    "# converting to list\n",
    "squared_numbers = list(squared_numbers_iterator)\n",
    "print(squared_numbers)"
   ]
  },
  {
   "cell_type": "markdown",
   "id": "13182b6e",
   "metadata": {},
   "source": [
    "## 9 What is pass in Python?"
   ]
  },
  {
   "cell_type": "markdown",
   "id": "0c494cd1",
   "metadata": {},
   "source": [
    "In Python, pass is a null statement. The interpreter does not ignore a pass statement, but nothing happens and the statement results into no operation.\n",
    "\n",
    "The pass statement is useful when you don’t write the implementation of a function but you want to implement it in the future. So, to avoid compilation errors, you can use the pass statement."
   ]
  },
  {
   "cell_type": "code",
   "execution_count": 60,
   "id": "a3e4e2ea",
   "metadata": {},
   "outputs": [
    {
     "name": "stdout",
     "output_type": "stream",
     "text": [
      "Number:  3\n"
     ]
    }
   ],
   "source": [
    "# This functions prints the number if its not 2\n",
    "def display(number):\n",
    "  \n",
    "  if number == 2:\n",
    "    pass # Pass statement\n",
    "  else:\n",
    "    print (\"Number: \", number)\n",
    "    \n",
    "display(2)\n",
    "display(3)"
   ]
  },
  {
   "cell_type": "markdown",
   "id": "3fdbc26f",
   "metadata": {},
   "source": [
    "## 10 What is vstack() in numpy? Give an example"
   ]
  },
  {
   "cell_type": "markdown",
   "id": "b120d2df",
   "metadata": {},
   "source": [
    "numpy.vstack(tuple)\n",
    "\n",
    "Stack arrays in sequence vertically (row wise).\n",
    "\n",
    "This is equivalent to concatenation along the first axis after 1-D arrays of shape (N,) have been reshaped to (1,N). Rebuilds arrays divided by vsplit.\n",
    "\n",
    "This function makes most sense for arrays with up to 3 dimensions. For instance, for pixel-data with a height (first axis), width (second axis), and r/g/b channels (third axis). The functions concatenate, stack and block provide more general stacking and concatenation operations."
   ]
  },
  {
   "cell_type": "code",
   "execution_count": 65,
   "id": "bb4df959",
   "metadata": {},
   "outputs": [
    {
     "data": {
      "text/plain": [
       "array([[1, 2, 3],\n",
       "       [4, 5, 6]])"
      ]
     },
     "execution_count": 65,
     "metadata": {},
     "output_type": "execute_result"
    }
   ],
   "source": [
    "a = np.array([1, 2, 3])\n",
    "b = np.array([4, 5, 6])\n",
    "np.vstack((a,b))"
   ]
  },
  {
   "cell_type": "code",
   "execution_count": 66,
   "id": "1a97f241",
   "metadata": {},
   "outputs": [
    {
     "data": {
      "text/plain": [
       "array([[1],\n",
       "       [2],\n",
       "       [3],\n",
       "       [4],\n",
       "       [5],\n",
       "       [6]])"
      ]
     },
     "execution_count": 66,
     "metadata": {},
     "output_type": "execute_result"
    }
   ],
   "source": [
    "a = np.array([[1], [2], [3]])\n",
    "b = np.array([[4], [5], [6]])\n",
    "np.vstack((a,b))"
   ]
  },
  {
   "cell_type": "code",
   "execution_count": null,
   "id": "880474fc",
   "metadata": {},
   "outputs": [],
   "source": []
  }
 ],
 "metadata": {
  "kernelspec": {
   "display_name": "Python 3 (ipykernel)",
   "language": "python",
   "name": "python3"
  },
  "language_info": {
   "codemirror_mode": {
    "name": "ipython",
    "version": 3
   },
   "file_extension": ".py",
   "mimetype": "text/x-python",
   "name": "python",
   "nbconvert_exporter": "python",
   "pygments_lexer": "ipython3",
   "version": "3.9.7"
  }
 },
 "nbformat": 4,
 "nbformat_minor": 5
}
